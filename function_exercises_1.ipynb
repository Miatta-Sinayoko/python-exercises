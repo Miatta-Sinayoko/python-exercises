{
 "cells": [
  {
   "cell_type": "code",
   "execution_count": 3,
   "id": "c2049da4",
   "metadata": {},
   "outputs": [],
   "source": [
    "### Function Exercise"
   ]
  },
  {
   "cell_type": "code",
   "execution_count": 2,
   "id": "f304283e",
   "metadata": {},
   "outputs": [],
   "source": [
    "#Define a function named is_two.It should accept one input and return True if the passed input is either the number or the string 2, False otherwise.\n",
    "\n",
    "def is_two(number): \n",
    "    '''\n",
    "    This function takes in a number or string\n",
    "    returns True if the input is number 2 or string 2\n",
    "    and False is any other number or string.\n",
    "    '''\n",
    "    #if the number input is an integer 2\n",
    "    if number == 2:\n",
    "        return True\n",
    "    #or if the number input is a string 2\n",
    "    if number == '2':\n",
    "        return True\n",
    "    else:\n",
    "        return False\n"
   ]
  },
  {
   "cell_type": "code",
   "execution_count": 3,
   "id": "e38b7965",
   "metadata": {},
   "outputs": [
    {
     "data": {
      "text/plain": [
       "True"
      ]
     },
     "execution_count": 3,
     "metadata": {},
     "output_type": "execute_result"
    }
   ],
   "source": [
    "#test the code\n",
    "is_two(2)"
   ]
  },
  {
   "cell_type": "code",
   "execution_count": 4,
   "id": "ef931c2f",
   "metadata": {},
   "outputs": [
    {
     "data": {
      "text/plain": [
       "True"
      ]
     },
     "execution_count": 4,
     "metadata": {},
     "output_type": "execute_result"
    }
   ],
   "source": [
    "#test the code\n",
    "is_two('2')"
   ]
  },
  {
   "cell_type": "code",
   "execution_count": 5,
   "id": "b1a90b5b",
   "metadata": {},
   "outputs": [
    {
     "data": {
      "text/plain": [
       "False"
      ]
     },
     "execution_count": 5,
     "metadata": {},
     "output_type": "execute_result"
    }
   ],
   "source": [
    "#test the code\n",
    "is_two(3)"
   ]
  },
  {
   "cell_type": "code",
   "execution_count": 6,
   "id": "b8d0a174",
   "metadata": {},
   "outputs": [],
   "source": [
    "#more straight forward\n",
    "def is_two(n):\n",
    "    return n == 2 or n == '2'"
   ]
  },
  {
   "cell_type": "code",
   "execution_count": 7,
   "id": "4e7e5360",
   "metadata": {},
   "outputs": [
    {
     "data": {
      "text/plain": [
       "False"
      ]
     },
     "execution_count": 7,
     "metadata": {},
     "output_type": "execute_result"
    }
   ],
   "source": [
    "#test the code\n",
    "is_two(3)"
   ]
  },
  {
   "cell_type": "code",
   "execution_count": 8,
   "id": "ec419291",
   "metadata": {},
   "outputs": [
    {
     "data": {
      "text/plain": [
       "True"
      ]
     },
     "execution_count": 8,
     "metadata": {},
     "output_type": "execute_result"
    }
   ],
   "source": [
    "#test the code\n",
    "is_two('2')\n"
   ]
  },
  {
   "cell_type": "code",
   "execution_count": 9,
   "id": "8a0326d4",
   "metadata": {},
   "outputs": [],
   "source": [
    "#2.Define a function named is_vowel. \n",
    "#It should return True if the passed string is a vowel, False otherwise.\n",
    "\n",
    "list('aeiou')\n",
    "\n",
    "def is_vowel(somestring):\n",
    "    if type(somestring) == str:\n",
    "        if len(somestring) == 1 and somestring.isalpha():\n",
    "            return somestring.lower() in list('aeiou')\n",
    "        else:\n",
    "            return False\n",
    "    else:\n",
    "        return False"
   ]
  },
  {
   "cell_type": "code",
   "execution_count": 11,
   "id": "dbf2e39c",
   "metadata": {},
   "outputs": [],
   "source": [
    "#3.#Define a function named is_consonant. It should return True if the passed string is a consonant, False otherwise. Use your is_vowel function to accomplish this.\n",
    "#using the is_vowel function from above\n",
    "def is_consonant(string):\n",
    "    '''\n",
    "    This function takes in a string\n",
    "    Return true if input is a consonant \n",
    "    Return False if input is a vowel\n",
    "    '''\n",
    "    #if the string input is a string datatype\n",
    "    if type(string) == str:\n",
    "        #confirms that only alpha characters are in the input\n",
    "        is_only_letters = string.isalpha()\n",
    "        #returns only the alpha characters that are not vowesl\n",
    "        return is_only_letters and not is_vowel(string)\n",
    "    else:\n",
    "        return False"
   ]
  },
  {
   "cell_type": "code",
   "execution_count": 12,
   "id": "13b3749b",
   "metadata": {},
   "outputs": [
    {
     "data": {
      "text/plain": [
       "True"
      ]
     },
     "execution_count": 12,
     "metadata": {},
     "output_type": "execute_result"
    }
   ],
   "source": [
    "#test the function\n",
    "is_consonant('b')\n"
   ]
  },
  {
   "cell_type": "code",
   "execution_count": 13,
   "id": "2396fc26",
   "metadata": {},
   "outputs": [
    {
     "data": {
      "text/plain": [
       "True"
      ]
     },
     "execution_count": 13,
     "metadata": {},
     "output_type": "execute_result"
    }
   ],
   "source": [
    "#test the function\n",
    "is_consonant('B')"
   ]
  },
  {
   "cell_type": "code",
   "execution_count": 14,
   "id": "302ccdc8",
   "metadata": {},
   "outputs": [
    {
     "data": {
      "text/plain": [
       "False"
      ]
     },
     "execution_count": 14,
     "metadata": {},
     "output_type": "execute_result"
    }
   ],
   "source": [
    "#test the function\n",
    "is_consonant('a')\n"
   ]
  },
  {
   "cell_type": "code",
   "execution_count": 15,
   "id": "bd137dae",
   "metadata": {},
   "outputs": [],
   "source": [
    "#4.Define a function that accepts a string that is a word. \n",
    "#The function should capitalize the first letter of the word if the word starts with a consonant.\n",
    "\n",
    "def cap_first_cons(string):\n",
    "    '''\n",
    "    This function takes in a string\n",
    "    and returns that string capitalized\n",
    "    if it starts with a consonent.\n",
    "    Otherwise, it returns the original string.\n",
    "    '''\n",
    "    #if the input string is a string datatype\n",
    "    if type(string) == str:\n",
    "        #look at the first letter in that string\n",
    "        if is_consonant(string[0]):\n",
    "            #and capitalize that letter\n",
    "            return string.capitalize()\n",
    "        else:\n",
    "            return string\n",
    "    else:\n",
    "        return string"
   ]
  },
  {
   "cell_type": "code",
   "execution_count": 16,
   "id": "6097bf93",
   "metadata": {},
   "outputs": [
    {
     "data": {
      "text/plain": [
       "'Dog'"
      ]
     },
     "execution_count": 16,
     "metadata": {},
     "output_type": "execute_result"
    }
   ],
   "source": [
    "#test the function\n",
    "cap_first_cons('dog')"
   ]
  },
  {
   "cell_type": "code",
   "execution_count": 17,
   "id": "eccf0607",
   "metadata": {},
   "outputs": [
    {
     "data": {
      "text/plain": [
       "'apple'"
      ]
     },
     "execution_count": 17,
     "metadata": {},
     "output_type": "execute_result"
    }
   ],
   "source": [
    "#test the function\n",
    "#this will not work because 'a' is not a consonant\n",
    "cap_first_cons('apple')"
   ]
  },
  {
   "cell_type": "code",
   "execution_count": 23,
   "id": "c4243d9c",
   "metadata": {
    "scrolled": true
   },
   "outputs": [
    {
     "data": {
      "text/plain": [
       "10.0"
      ]
     },
     "execution_count": 23,
     "metadata": {},
     "output_type": "execute_result"
    }
   ],
   "source": [
    "#5. Define a function named calculate_tip.\n",
    "# It should accept a tip percentage (a number between 0 and 1) and the bill total, and return the amount to tip.\n",
    " \n",
    "'''\n",
    "The calculate_tip function takes two numbers: the tip percentage and the bill amount. It multiplies the tip percentage by the bill amount, and then rounds the result to two decimal places. Finally, it returns the rounded result.\n",
    "For example, if the tip percentage is 20% and the bill amount is $50, the function would return $10.00.\n",
    "'''\n",
    "    \n",
    "def calculate_tip(tip_perc, bill):\n",
    "    return round(bill * tip_perc, 2)\n",
    "tip = calculate_tip(.20, 50)\n",
    "tip"
   ]
  },
  {
   "cell_type": "code",
   "execution_count": 24,
   "id": "24d6c861",
   "metadata": {},
   "outputs": [],
   "source": [
    "#6.Define a function named apply_discount. \n",
    "#It should accept a original price, and a discount percentage, and return the price after the discount is applied.\n",
    "\n",
    "def apply_discount(orig_price, disc_perc):\n",
    "    '''\n",
    "    This function takes in sales price and discount percent\n",
    "    then returns the new price of the item.\n",
    "    '''\n",
    "    return orig_price - ((disc_perc / 100) * orig_price)\n",
    "\n"
   ]
  },
  {
   "cell_type": "code",
   "execution_count": 25,
   "id": "938e2fe3",
   "metadata": {},
   "outputs": [
    {
     "data": {
      "text/plain": [
       "80.0"
      ]
     },
     "execution_count": 25,
     "metadata": {},
     "output_type": "execute_result"
    }
   ],
   "source": [
    "#test the function- ($100 original price, 20% discount)\n",
    "apply_discount(100, 20)"
   ]
  },
  {
   "cell_type": "code",
   "execution_count": 26,
   "id": "59450ae7",
   "metadata": {},
   "outputs": [],
   "source": [
    "#7.Define a function named handle_commas. \n",
    "#It should accept a string that is a number that contains commas in it as input, and return a number as output.\n",
    "\n",
    "def handle_commas(string):\n",
    "    '''\n",
    "    This function takes in a string\n",
    "    removes the commas\n",
    "    and returns the string as an integer.\n",
    "    '''\n",
    "    string = string.replace(\",\" , \"\") \n",
    "    return int(string)\n",
    "\n"
   ]
  },
  {
   "cell_type": "code",
   "execution_count": 27,
   "id": "ab5188a5",
   "metadata": {},
   "outputs": [
    {
     "data": {
      "text/plain": [
       "4000000"
      ]
     },
     "execution_count": 27,
     "metadata": {},
     "output_type": "execute_result"
    }
   ],
   "source": [
    "handle_commas('4,000,000')\n"
   ]
  },
  {
   "cell_type": "code",
   "execution_count": 32,
   "id": "021c20ff",
   "metadata": {},
   "outputs": [],
   "source": [
    "#Define a function named get_letter_grade. It should accept a number and return the letter grade associated with that number (A-F).\n",
    "\n",
    "def is_letter_grade(score):\n",
    "    '''\n",
    "    This function takes in a float or integer\n",
    "    as a numeric grade and returns the letter grade.\n",
    "    '''\n",
    "    if type(score) == int or type(score) == float:\n",
    "        if(score < 60):\n",
    "            return \"F\"\n",
    "        elif(score < 70):\n",
    "            return \"D\"\n",
    "        elif(score < 80):\n",
    "            return \"C\"\n",
    "        elif(score < 90):\n",
    "            return \"B\"\n",
    "        elif(score <101):\n",
    "            return \"A\"\n"
   ]
  },
  {
   "cell_type": "code",
   "execution_count": null,
   "id": "45e5396b",
   "metadata": {},
   "outputs": [],
   "source": [
    "is_letter_grade(75)"
   ]
  },
  {
   "cell_type": "code",
   "execution_count": 33,
   "id": "723f92c2",
   "metadata": {},
   "outputs": [],
   "source": [
    "#9.Define a function named remove_vowels that accepts a string and returns a string with all the vowels removed.\n",
    "#using a previous function in this function\n",
    "def remove_vowels(vowel_word):\n",
    "    '''\n",
    "    This function takes in a word\n",
    "    and removes all vowels from the word.\n",
    "    '''\n",
    "    new_word = ''\n",
    "    for letter in vowel_word:\n",
    "        if not is_vowel(letter):\n",
    "            new_word += letter\n",
    "    return new_word"
   ]
  },
  {
   "cell_type": "code",
   "execution_count": 34,
   "id": "e2285225",
   "metadata": {},
   "outputs": [
    {
     "data": {
      "text/plain": [
       "'Sq'"
      ]
     },
     "execution_count": 34,
     "metadata": {},
     "output_type": "execute_result"
    }
   ],
   "source": [
    "remove_vowels('Sequoia')"
   ]
  },
  {
   "cell_type": "code",
   "execution_count": 38,
   "id": "32ff27d8",
   "metadata": {},
   "outputs": [],
   "source": [
    "#10.Define a function named normalize_name. \n",
    "#It should accept a string and return a valid python identifier, that is:\n",
    "\n",
    "\n",
    "#anything that is not a valid python identifier should be removed\n",
    "# leading and trailing whitespace should be removed\n",
    "# everything should be lowercase\n",
    "# spaces should be replaced with underscores\n",
    "# for example:\n",
    "    # Name will become name\n",
    "    # First Name will become first_name\n",
    "    # % Completed will become completed\n",
    "\n",
    "def normalize_name(somestring):\n",
    "    newstring = ''\n",
    "    #for loop to grab all letter, numbers, and spaces.\n",
    "    for letter in somestring:\n",
    "        if letter.isalnum() or letter == ' ':\n",
    "            newstring += letter\n",
    "    ## for loops to check if leading character is a letter.\n",
    "    for letter in newstring:\n",
    "        if letter.isalpha():\n",
    "            break\n",
    "        else:\n",
    "            newstring = newstring[1:]\n",
    "    return newstring.strip().lower().replace(' ', '_')\n"
   ]
  },
  {
   "cell_type": "code",
   "execution_count": 39,
   "id": "a3115be5",
   "metadata": {},
   "outputs": [
    {
     "data": {
      "text/plain": [
       "'name'"
      ]
     },
     "execution_count": 39,
     "metadata": {},
     "output_type": "execute_result"
    }
   ],
   "source": [
    "normalize_name('Name')"
   ]
  },
  {
   "cell_type": "code",
   "execution_count": 40,
   "id": "616f661e",
   "metadata": {},
   "outputs": [
    {
     "data": {
      "text/plain": [
       "'first_name'"
      ]
     },
     "execution_count": 40,
     "metadata": {},
     "output_type": "execute_result"
    }
   ],
   "source": [
    "normalize_name('First Name')"
   ]
  },
  {
   "cell_type": "code",
   "execution_count": 41,
   "id": "8829a90f",
   "metadata": {},
   "outputs": [
    {
     "data": {
      "text/plain": [
       "'completed'"
      ]
     },
     "execution_count": 41,
     "metadata": {},
     "output_type": "execute_result"
    }
   ],
   "source": [
    "normalize_name('% Completed')\n"
   ]
  },
  {
   "cell_type": "code",
   "execution_count": 42,
   "id": "fe54f8e0",
   "metadata": {},
   "outputs": [],
   "source": [
    "#11. Write a function named cumulative_sum that accepts a list of numbers and returns a list that is the cumulative sum of the numbers in the list.\n",
    "\n",
    "# cumulative_sum([1, 1, 1]) returns [1, 2, 3]\n",
    "# cumulative_sum([1, 2, 3, 4]) returns [1, 3, 6, 10]\n",
    "\n",
    "num_list = [1,2,3]\n"
   ]
  },
  {
   "cell_type": "code",
   "execution_count": 43,
   "id": "06432175",
   "metadata": {},
   "outputs": [
    {
     "data": {
      "text/plain": [
       "[1]"
      ]
     },
     "execution_count": 43,
     "metadata": {},
     "output_type": "execute_result"
    }
   ],
   "source": [
    "num_list[:1]\n"
   ]
  },
  {
   "cell_type": "code",
   "execution_count": 44,
   "id": "1fd7dcbc",
   "metadata": {},
   "outputs": [
    {
     "data": {
      "text/plain": [
       "[1, 2]"
      ]
     },
     "execution_count": 44,
     "metadata": {},
     "output_type": "execute_result"
    }
   ],
   "source": [
    "num_list[:2]\n"
   ]
  },
  {
   "cell_type": "code",
   "execution_count": 45,
   "id": "1d369412",
   "metadata": {},
   "outputs": [],
   "source": [
    "def cumulative_sum(oldlist):\n",
    "    newlist = []\n",
    "    i = 1\n",
    "    for num in oldlist:\n",
    "        cumusum = sum(oldlist[:i])\n",
    "        newlist.append(cumusum)\n",
    "        i += 1\n",
    "    return newlist"
   ]
  },
  {
   "cell_type": "code",
   "execution_count": 46,
   "id": "93c35903",
   "metadata": {},
   "outputs": [
    {
     "data": {
      "text/plain": [
       "[1, 2, 3]"
      ]
     },
     "execution_count": 46,
     "metadata": {},
     "output_type": "execute_result"
    }
   ],
   "source": [
    "#test the function\n",
    "cumulative_sum([1, 1, 1])"
   ]
  },
  {
   "cell_type": "code",
   "execution_count": 47,
   "id": "160ff166",
   "metadata": {
    "scrolled": true
   },
   "outputs": [
    {
     "data": {
      "text/plain": [
       "[1, 3, 6, 10]"
      ]
     },
     "execution_count": 47,
     "metadata": {},
     "output_type": "execute_result"
    }
   ],
   "source": [
    "#test the function\n",
    "cumulative_sum([1, 2, 3, 4]) "
   ]
  }
 ],
 "metadata": {
  "kernelspec": {
   "display_name": "Python 3 (ipykernel)",
   "language": "python",
   "name": "python3"
  },
  "language_info": {
   "codemirror_mode": {
    "name": "ipython",
    "version": 3
   },
   "file_extension": ".py",
   "mimetype": "text/x-python",
   "name": "python",
   "nbconvert_exporter": "python",
   "pygments_lexer": "ipython3",
   "version": "3.10.9"
  }
 },
 "nbformat": 4,
 "nbformat_minor": 5
}
