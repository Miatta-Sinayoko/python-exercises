{
 "cells": [
  {
   "cell_type": "code",
   "execution_count": 1,
   "id": "55703c00",
   "metadata": {},
   "outputs": [
    {
     "data": {
      "text/plain": [
       "float"
      ]
     },
     "execution_count": 1,
     "metadata": {},
     "output_type": "execute_result"
    }
   ],
   "source": [
    "type(99.9)"
   ]
  },
  {
   "cell_type": "code",
   "execution_count": 2,
   "id": "c39b04a3",
   "metadata": {},
   "outputs": [
    {
     "data": {
      "text/plain": [
       "str"
      ]
     },
     "execution_count": 2,
     "metadata": {},
     "output_type": "execute_result"
    }
   ],
   "source": [
    "type(\"False\")"
   ]
  },
  {
   "cell_type": "code",
   "execution_count": 3,
   "id": "63c8d47f",
   "metadata": {
    "scrolled": true
   },
   "outputs": [
    {
     "data": {
      "text/plain": [
       "bool"
      ]
     },
     "execution_count": 3,
     "metadata": {},
     "output_type": "execute_result"
    }
   ],
   "source": [
    "type(False)"
   ]
  },
  {
   "cell_type": "code",
   "execution_count": 4,
   "id": "daec37a3",
   "metadata": {},
   "outputs": [
    {
     "data": {
      "text/plain": [
       "str"
      ]
     },
     "execution_count": 4,
     "metadata": {},
     "output_type": "execute_result"
    }
   ],
   "source": [
    "type('0')"
   ]
  },
  {
   "cell_type": "code",
   "execution_count": 5,
   "id": "9d32ce46",
   "metadata": {},
   "outputs": [
    {
     "data": {
      "text/plain": [
       "bool"
      ]
     },
     "execution_count": 5,
     "metadata": {},
     "output_type": "execute_result"
    }
   ],
   "source": [
    "type(True)"
   ]
  },
  {
   "cell_type": "code",
   "execution_count": 6,
   "id": "693770b4",
   "metadata": {},
   "outputs": [
    {
     "data": {
      "text/plain": [
       "str"
      ]
     },
     "execution_count": 6,
     "metadata": {},
     "output_type": "execute_result"
    }
   ],
   "source": [
    "type('True')"
   ]
  },
  {
   "cell_type": "code",
   "execution_count": 7,
   "id": "ea208978",
   "metadata": {},
   "outputs": [
    {
     "data": {
      "text/plain": [
       "list"
      ]
     },
     "execution_count": 7,
     "metadata": {},
     "output_type": "execute_result"
    }
   ],
   "source": [
    "type([{}])"
   ]
  },
  {
   "cell_type": "code",
   "execution_count": 8,
   "id": "c43b5907",
   "metadata": {
    "scrolled": false
   },
   "outputs": [
    {
     "data": {
      "text/plain": [
       "dict"
      ]
     },
     "execution_count": 8,
     "metadata": {},
     "output_type": "execute_result"
    }
   ],
   "source": [
    "type({'a': []})"
   ]
  },
  {
   "cell_type": "code",
   "execution_count": null,
   "id": "5a48cd5a",
   "metadata": {},
   "outputs": [],
   "source": [
    "2. What data type would best represent the following?\n",
    "\n",
    "2a.A term or phrase typed into a search box - string\n",
    "\n",
    "2b.Whether or not a user is logged in - boolean\n",
    "\n",
    "2c.A discount amount to apply to a user's shopping cart - float or integer\n",
    "\n",
    "2d.Whether or not a coupon code is valid - boolean\n",
    "\n",
    "2e.An email address typed into a registration form - string\n",
    "\n",
    "2f.The price of a product - float or integer\n",
    "\n",
    "2g.The email addresses collected from a registration form - list of strings\n",
    "\n",
    "2h.Information about applicants to Codeup's data science program - list of dictionaries"
   ]
  },
  {
   "cell_type": "code",
   "execution_count": 14,
   "id": "e6721240",
   "metadata": {},
   "outputs": [
    {
     "ename": "TypeError",
     "evalue": "can only concatenate str (not \"int\") to str",
     "output_type": "error",
     "traceback": [
      "\u001b[0;31m---------------------------------------------------------------------------\u001b[0m",
      "\u001b[0;31mTypeError\u001b[0m                                 Traceback (most recent call last)",
      "Cell \u001b[0;32mIn[14], line 1\u001b[0m\n\u001b[0;32m----> 1\u001b[0m \u001b[38;5;124;43m'\u001b[39;49m\u001b[38;5;124;43m1\u001b[39;49m\u001b[38;5;124;43m'\u001b[39;49m\u001b[43m \u001b[49m\u001b[38;5;241;43m+\u001b[39;49m\u001b[43m \u001b[49m\u001b[38;5;241;43m2\u001b[39;49m\n",
      "\u001b[0;31mTypeError\u001b[0m: can only concatenate str (not \"int\") to str"
     ]
    }
   ],
   "source": [
    "'1' + 2 #error"
   ]
  },
  {
   "cell_type": "code",
   "execution_count": 16,
   "id": "6ae465fd",
   "metadata": {
    "scrolled": true
   },
   "outputs": [
    {
     "data": {
      "text/plain": [
       "int"
      ]
     },
     "execution_count": 16,
     "metadata": {},
     "output_type": "execute_result"
    }
   ],
   "source": [
    "type(6 % 4) #int"
   ]
  },
  {
   "cell_type": "code",
   "execution_count": 17,
   "id": "1db3d609",
   "metadata": {},
   "outputs": [
    {
     "data": {
      "text/plain": [
       "type"
      ]
     },
     "execution_count": 17,
     "metadata": {},
     "output_type": "execute_result"
    }
   ],
   "source": [
    "type(type(6 % 4)) #str"
   ]
  },
  {
   "cell_type": "code",
   "execution_count": 18,
   "id": "f650c924",
   "metadata": {
    "scrolled": true
   },
   "outputs": [
    {
     "ename": "TypeError",
     "evalue": "can only concatenate str (not \"int\") to str",
     "output_type": "error",
     "traceback": [
      "\u001b[0;31m---------------------------------------------------------------------------\u001b[0m",
      "\u001b[0;31mTypeError\u001b[0m                                 Traceback (most recent call last)",
      "Cell \u001b[0;32mIn[18], line 1\u001b[0m\n\u001b[0;32m----> 1\u001b[0m \u001b[38;5;124;43m'\u001b[39;49m\u001b[38;5;124;43m3 + 4 is \u001b[39;49m\u001b[38;5;124;43m'\u001b[39;49m\u001b[43m \u001b[49m\u001b[38;5;241;43m+\u001b[39;49m\u001b[43m \u001b[49m\u001b[38;5;241;43m3\u001b[39;49m \u001b[38;5;241m+\u001b[39m \u001b[38;5;241m4\u001b[39m\n",
      "\u001b[0;31mTypeError\u001b[0m: can only concatenate str (not \"int\") to str"
     ]
    }
   ],
   "source": [
    "'3 + 4 is ' + 3 + 4 # error"
   ]
  },
  {
   "cell_type": "code",
   "execution_count": 19,
   "id": "9cfe0597",
   "metadata": {},
   "outputs": [
    {
     "data": {
      "text/plain": [
       "False"
      ]
     },
     "execution_count": 19,
     "metadata": {},
     "output_type": "execute_result"
    }
   ],
   "source": [
    "0 < 0 #F"
   ]
  },
  {
   "cell_type": "code",
   "execution_count": 20,
   "id": "5df902cf",
   "metadata": {},
   "outputs": [
    {
     "data": {
      "text/plain": [
       "False"
      ]
     },
     "execution_count": 20,
     "metadata": {},
     "output_type": "execute_result"
    }
   ],
   "source": [
    "'False' == False #F not the same value "
   ]
  },
  {
   "cell_type": "code",
   "execution_count": 21,
   "id": "89f36d3a",
   "metadata": {
    "scrolled": true
   },
   "outputs": [
    {
     "data": {
      "text/plain": [
       "False"
      ]
     },
     "execution_count": 21,
     "metadata": {},
     "output_type": "execute_result"
    }
   ],
   "source": [
    "True == 'True' #F not the same valueb"
   ]
  },
  {
   "cell_type": "code",
   "execution_count": 22,
   "id": "e8acde61",
   "metadata": {},
   "outputs": [
    {
     "data": {
      "text/plain": [
       "True"
      ]
     },
     "execution_count": 22,
     "metadata": {},
     "output_type": "execute_result"
    }
   ],
   "source": [
    "5 >= -5 #T 5 is greater thsn -5"
   ]
  },
  {
   "cell_type": "code",
   "execution_count": 23,
   "id": "1922f54e",
   "metadata": {},
   "outputs": [
    {
     "data": {
      "text/plain": [
       "True"
      ]
     },
     "execution_count": 23,
     "metadata": {},
     "output_type": "execute_result"
    }
   ],
   "source": [
    "True or \"42\" #F"
   ]
  },
  {
   "cell_type": "code",
   "execution_count": 24,
   "id": "11a2d4ef",
   "metadata": {},
   "outputs": [
    {
     "data": {
      "text/plain": [
       "1"
      ]
     },
     "execution_count": 24,
     "metadata": {},
     "output_type": "execute_result"
    }
   ],
   "source": [
    "6 % 5 #1"
   ]
  },
  {
   "cell_type": "code",
   "execution_count": 25,
   "id": "e4fe2390",
   "metadata": {},
   "outputs": [
    {
     "data": {
      "text/plain": [
       "False"
      ]
     },
     "execution_count": 25,
     "metadata": {},
     "output_type": "execute_result"
    }
   ],
   "source": [
    "5 < 4 and 1 == 1 #F 5 isn't < 4\n"
   ]
  },
  {
   "cell_type": "code",
   "execution_count": 26,
   "id": "c98e4427",
   "metadata": {},
   "outputs": [
    {
     "data": {
      "text/plain": [
       "False"
      ]
     },
     "execution_count": 26,
     "metadata": {},
     "output_type": "execute_result"
    }
   ],
   "source": [
    "'codeup' == 'codeup' and 'codeup' == 'Codeup'# F codeup /= Codeup\n"
   ]
  },
  {
   "cell_type": "code",
   "execution_count": 27,
   "id": "9fbac113",
   "metadata": {},
   "outputs": [
    {
     "ename": "SyntaxError",
     "evalue": "invalid syntax (3850088429.py, line 1)",
     "output_type": "error",
     "traceback": [
      "\u001b[0;36m  Cell \u001b[0;32mIn[27], line 1\u001b[0;36m\u001b[0m\n\u001b[0;31m    4 >= 0 and 1 !== '1'\u001b[0m\n\u001b[0m                   ^\u001b[0m\n\u001b[0;31mSyntaxError\u001b[0m\u001b[0;31m:\u001b[0m invalid syntax\n"
     ]
    }
   ],
   "source": [
    "4 >= 0 and 1 !== '1' # error\n"
   ]
  },
  {
   "cell_type": "code",
   "execution_count": 28,
   "id": "f2fb4077",
   "metadata": {},
   "outputs": [
    {
     "data": {
      "text/plain": [
       "True"
      ]
     },
     "execution_count": 28,
     "metadata": {},
     "output_type": "execute_result"
    }
   ],
   "source": [
    "6 % 3 == 0 # T "
   ]
  },
  {
   "cell_type": "code",
   "execution_count": 29,
   "id": "4df2602d",
   "metadata": {},
   "outputs": [
    {
     "data": {
      "text/plain": [
       "True"
      ]
     },
     "execution_count": 29,
     "metadata": {},
     "output_type": "execute_result"
    }
   ],
   "source": [
    "5 % 2 != 0 #T sum doesn't = 0"
   ]
  },
  {
   "cell_type": "code",
   "execution_count": 30,
   "id": "aa85a677",
   "metadata": {},
   "outputs": [
    {
     "ename": "TypeError",
     "evalue": "can only concatenate list (not \"int\") to list",
     "output_type": "error",
     "traceback": [
      "\u001b[0;31m---------------------------------------------------------------------------\u001b[0m",
      "\u001b[0;31mTypeError\u001b[0m                                 Traceback (most recent call last)",
      "Cell \u001b[0;32mIn[30], line 1\u001b[0m\n\u001b[0;32m----> 1\u001b[0m \u001b[43m[\u001b[49m\u001b[38;5;241;43m1\u001b[39;49m\u001b[43m]\u001b[49m\u001b[43m \u001b[49m\u001b[38;5;241;43m+\u001b[39;49m\u001b[43m \u001b[49m\u001b[38;5;241;43m2\u001b[39;49m\n",
      "\u001b[0;31mTypeError\u001b[0m: can only concatenate list (not \"int\") to list"
     ]
    }
   ],
   "source": [
    "[1] + 2 #?"
   ]
  },
  {
   "cell_type": "code",
   "execution_count": 31,
   "id": "a459a480",
   "metadata": {},
   "outputs": [
    {
     "data": {
      "text/plain": [
       "[1, 2]"
      ]
     },
     "execution_count": 31,
     "metadata": {},
     "output_type": "execute_result"
    }
   ],
   "source": [
    "[1] + [2] # 1, 2"
   ]
  },
  {
   "cell_type": "code",
   "execution_count": 32,
   "id": "a5d00cfe",
   "metadata": {},
   "outputs": [
    {
     "data": {
      "text/plain": [
       "[1, 1]"
      ]
     },
     "execution_count": 32,
     "metadata": {},
     "output_type": "execute_result"
    }
   ],
   "source": [
    "[1] * 2 # 1,1 0 is one and two is one"
   ]
  },
  {
   "cell_type": "code",
   "execution_count": 33,
   "id": "8c0a73e1",
   "metadata": {},
   "outputs": [
    {
     "ename": "TypeError",
     "evalue": "can't multiply sequence by non-int of type 'list'",
     "output_type": "error",
     "traceback": [
      "\u001b[0;31m---------------------------------------------------------------------------\u001b[0m",
      "\u001b[0;31mTypeError\u001b[0m                                 Traceback (most recent call last)",
      "Cell \u001b[0;32mIn[33], line 1\u001b[0m\n\u001b[0;32m----> 1\u001b[0m \u001b[43m[\u001b[49m\u001b[38;5;241;43m1\u001b[39;49m\u001b[43m]\u001b[49m\u001b[43m \u001b[49m\u001b[38;5;241;43m*\u001b[39;49m\u001b[43m \u001b[49m\u001b[43m[\u001b[49m\u001b[38;5;241;43m2\u001b[39;49m\u001b[43m]\u001b[49m\n",
      "\u001b[0;31mTypeError\u001b[0m: can't multiply sequence by non-int of type 'list'"
     ]
    }
   ],
   "source": [
    "[1] * [2] #idk"
   ]
  },
  {
   "cell_type": "code",
   "execution_count": 34,
   "id": "db115930",
   "metadata": {},
   "outputs": [
    {
     "data": {
      "text/plain": [
       "True"
      ]
     },
     "execution_count": 34,
     "metadata": {},
     "output_type": "execute_result"
    }
   ],
   "source": [
    "[] + [] == [] #T"
   ]
  },
  {
   "cell_type": "code",
   "execution_count": 35,
   "id": "39e2c889",
   "metadata": {},
   "outputs": [
    {
     "ename": "TypeError",
     "evalue": "unsupported operand type(s) for +: 'dict' and 'dict'",
     "output_type": "error",
     "traceback": [
      "\u001b[0;31m---------------------------------------------------------------------------\u001b[0m",
      "\u001b[0;31mTypeError\u001b[0m                                 Traceback (most recent call last)",
      "Cell \u001b[0;32mIn[35], line 1\u001b[0m\n\u001b[0;32m----> 1\u001b[0m \u001b[43m{\u001b[49m\u001b[43m}\u001b[49m\u001b[43m \u001b[49m\u001b[38;5;241;43m+\u001b[39;49m\u001b[43m \u001b[49m\u001b[43m{\u001b[49m\u001b[43m}\u001b[49m\n",
      "\u001b[0;31mTypeError\u001b[0m: unsupported operand type(s) for +: 'dict' and 'dict'"
     ]
    }
   ],
   "source": [
    "{} + {} # error not a taype"
   ]
  },
  {
   "cell_type": "code",
   "execution_count": 36,
   "id": "ddba400b",
   "metadata": {},
   "outputs": [
    {
     "name": "stdout",
     "output_type": "stream",
     "text": [
      "Total amount to be paid for renting movies: 27\n"
     ]
    }
   ],
   "source": [
    "little_mermaid_days = 3\n",
    "brother_bear_days = 5\n",
    "hercules_days = 1\n",
    "daily_rate = 3\n",
    "\n",
    "total_rental_amount = (little_mermaid_days + brother_bear_days + hercules_days) * daily_rate\n",
    "print(\"Total amount to be paid for renting movies:\", total_rental_amount)\n"
   ]
  },
  {
   "cell_type": "code",
   "execution_count": 37,
   "id": "b71c2c27",
   "metadata": {},
   "outputs": [
    {
     "name": "stdout",
     "output_type": "stream",
     "text": [
      "Total payment for the week: 7420\n"
     ]
    }
   ],
   "source": [
    "google_hourly_rate = 400\n",
    "amazon_hourly_rate = 380\n",
    "facebook_hourly_rate = 350\n",
    "\n",
    "google_hours = 6\n",
    "amazon_hours = 4\n",
    "facebook_hours = 10\n",
    "\n",
    "total_payment = (google_hours * google_hourly_rate) + (amazon_hours * amazon_hourly_rate) + (facebook_hours * facebook_hourly_rate)\n",
    "print(\"Total payment for the week:\", total_payment)\n"
   ]
  },
  {
   "cell_type": "code",
   "execution_count": 39,
   "id": "86a66d72",
   "metadata": {},
   "outputs": [],
   "source": [
    "# Scenario: Enrolling a student to a class.\n",
    "# Variables:\n",
    "# class_size: maximum number of students that can enroll in the class\n",
    "# current_enrollment: current number of students enrolled in the class\n",
    "# class_schedule: schedule of the class\n",
    "# student_schedule: schedule of the student\n",
    "# Operators:\n",
    "\n",
    "# >: greater than operator\n",
    "# !=: not equal to operator\n",
    "# and: logical operator that returns True if both conditions are True\n",
    "\n",
    "class_size = 30\n",
    "current_enrollment = 25\n",
    "class_schedule = 'MWF 9-10am'\n",
    "student_schedule = 'TTH 9-10am'\n",
    "\n",
    "can_enroll = current_enrollment < class_size and class_schedule != student_schedule\n",
    "# print the results\n",
    "\n"
   ]
  },
  {
   "cell_type": "code",
   "execution_count": 42,
   "id": "3e48691a",
   "metadata": {},
   "outputs": [],
   "source": [
    "# Scenario: Applying a product offer to a purchase.\n",
    "# Variables:\n",
    "\n",
    "# item_count: number of items in the purchase\n",
    "# is_premium_member: whether the customer is a premium member\n",
    "# offer_valid: whether the offer is still valid\n",
    "# Operators:\n",
    "\n",
    "# >: greater than operator\n",
    "# and: logical operator that returns True if both conditions are True\n",
    "# or: logical operator that returns True if at least one condition is True\n",
    "\n",
    "item_count = 3\n",
    "is_premium_member = True\n",
    "offer_valid = True\n",
    "\n",
    "can_apply_offer = item_count > 2 or (item_count > 0 and is_premium_member) and offer_valid\n",
    "\n",
    "# print the results\n",
    "\n"
   ]
  },
  {
   "cell_type": "code",
   "execution_count": 43,
   "id": "86955a80",
   "metadata": {},
   "outputs": [
    {
     "name": "stdout",
     "output_type": "stream",
     "text": [
      "True\n",
      "True\n",
      "True\n"
     ]
    }
   ],
   "source": [
    "username = 'codeup'\n",
    "password = 'notastrongpassword'\n",
    "\n",
    "# check if the password is at least 5 characters\n",
    "is_valid_password_length = len(password) >= 5\n",
    "\n",
    "# check if the username is no more than 20 characters\n",
    "is_valid_username_length = len(username) <= 20\n",
    "\n",
    "# check if the password is not the same as the username\n",
    "is_valid_password = password != username\n",
    "# print the results\n",
    "\n",
    "print(is_valid_password_length)\n",
    "print(is_valid_username_length)\n",
    "print(is_valid_password)\n"
   ]
  }
 ],
 "metadata": {
  "kernelspec": {
   "display_name": "Python 3 (ipykernel)",
   "language": "python",
   "name": "python3"
  },
  "language_info": {
   "codemirror_mode": {
    "name": "ipython",
    "version": 3
   },
   "file_extension": ".py",
   "mimetype": "text/x-python",
   "name": "python",
   "nbconvert_exporter": "python",
   "pygments_lexer": "ipython3",
   "version": "3.10.9"
  }
 },
 "nbformat": 4,
 "nbformat_minor": 5
}
