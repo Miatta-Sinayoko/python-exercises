{
 "cells": [
  {
   "cell_type": "code",
   "execution_count": 15,
   "id": "d0e0bbef",
   "metadata": {},
   "outputs": [],
   "source": [
    "## CONTROL STRUCTURES EXERCISE"
   ]
  },
  {
   "cell_type": "code",
   "execution_count": 5,
   "id": "01037a21",
   "metadata": {},
   "outputs": [
    {
     "name": "stdout",
     "output_type": "stream",
     "text": [
      "What day of the week is it? Wednesday \n",
      "No, it is not Monday.\n"
     ]
    }
   ],
   "source": [
    "### 1a.\n",
    "\n",
    "\n",
    "### Prompt the user for a day of the week\n",
    "day = input(\"What day of the week is it? \")\n",
    "\n",
    "### Check if the day is Monday\n",
    "if day == \"Monday\":\n",
    "    print(\"Yes, it is Monday.\")\n",
    "else:\n",
    "    print(\"No, it is not Monday.\")\n"
   ]
  },
  {
   "cell_type": "code",
   "execution_count": 24,
   "id": "e5a3a06b",
   "metadata": {},
   "outputs": [
    {
     "name": "stdout",
     "output_type": "stream",
     "text": [
      "What day of the week is it? Wednesday\n",
      "Yes, it is a weekday.\n"
     ]
    }
   ],
   "source": [
    "### 1b.Prompt the user for a day of the week\n",
    "day = input(\"What day of the week is it? \")\n",
    "\n",
    "### Check if the day is a weekday\n",
    "if day in [\"Monday\", \"Tuesday\", \"Wednesday\", \"Thursday\", \"Friday\"]:\n",
    "    print(\"Yes, it is a weekday.\")\n",
    "else:\n",
    "    print(\"No, it is a weekend.\") "
   ]
  },
  {
   "cell_type": "code",
   "execution_count": 14,
   "id": "e18d1b6c",
   "metadata": {},
   "outputs": [
    {
     "name": "stdout",
     "output_type": "stream",
     "text": [
      "Enter the number of hours worked: 40\n",
      "Enter the number of hours of overtime: 10\n",
      "Your paycheck for this week is: $1730.0 This week for 40.0 hours of work.\n"
     ]
    }
   ],
   "source": [
    "#1c. CHECK GIT\n",
    "# hours_worked = 50\n",
    "# hourly_rate = 43.25\n",
    "\n",
    "\n",
    "# # Prompt the user for the number of hours worked.\n",
    "# hours_worked = float(input(\"Enter the number of hours worked: \"))\n",
    "\n",
    "# Prompt the user for the number of hours of overtime.\n",
    "# overtime_hours = float(input(\"Enter the number of hours of overtime: \"))\n",
    "\n",
    "# # Calculate the overtime pay for the worker.\n",
    "# overtime_pay = overtime_hours * hourly_rate * 1.5\n",
    "\n",
    "# # Calculate the total pay for the worker.\n",
    "# total_pay = hours_worked * hourly_rate + overtime_pay\n",
    "\n",
    "# # Print the total pay for the worker.\n",
    "# print(f\"Your paycheck for this week is: ${total_pay} This week for {hours_worked} hours of work, with {overtime_hours} hours of overtime.\")\n",
    "\n",
    "hours_worked = 50\n",
    "hourly_rate = 43.25\n",
    "#Prompt the user for the number of hours of overtime.\n",
    "overtime_hours = float(input(\"Enter the number of hours of overtime: \"))\n",
    "\n",
    "if hours_worked <= 40:\n",
    "    total_pay = hours_worked * hourly_rate\n",
    "else:\n",
    "    print(overtime)\n",
    "    overtime_hours = hours_worked - 40\n",
    "    overtime_pay = overtime_hours * hourly_rate * 1.5\n",
    "    total_pay = hours_worked * hourly_rate + overtime_pay\n",
    "\n",
    "print(f\"Your paycheck for this week is: ${total_pay} This week for {hours_worked} hours of work.\")\n"
   ]
  },
  {
   "cell_type": "code",
   "execution_count": 19,
   "id": "7144456a",
   "metadata": {},
   "outputs": [],
   "source": [
    "## LOOP BASICS"
   ]
  },
  {
   "cell_type": "code",
   "execution_count": 64,
   "id": "6d2e71cb",
   "metadata": {
    "scrolled": true
   },
   "outputs": [
    {
     "name": "stdout",
     "output_type": "stream",
     "text": [
      "5\n",
      "6\n",
      "7\n",
      "8\n",
      "9\n",
      "10\n",
      "11\n",
      "12\n",
      "13\n",
      "14\n",
      "15\n"
     ]
    }
   ],
   "source": [
    "###2a.While\n",
    "### Create an integer variable i with a value of 5. \n",
    "### Create a while loop that runs so long as i is less than or equal to 15.\n",
    "### Each loop iteration, output the current value of i, then increment i by one.\n",
    "\n",
    "i = 5\n",
    "while i <= 15:\n",
    "    print(i)\n",
    "    i += 1\n",
    "\n"
   ]
  },
  {
   "cell_type": "code",
   "execution_count": 71,
   "id": "f990fe75",
   "metadata": {},
   "outputs": [
    {
     "name": "stdout",
     "output_type": "stream",
     "text": [
      "2\n",
      "4\n",
      "16\n",
      "256\n",
      "65536\n"
     ]
    }
   ],
   "source": [
    "###ii. Create a while loop that will count by 2's starting with 0 and ending at 100. Follow each number with a new line.\n",
    "### Create a while loop that starts at 2, and displays the number squared on each line while the number is less than 1,000,000. Output should equal:\n",
    "\n",
    "i = 2\n",
    "while i <= 1e6:\n",
    "    print(i)\n",
    "    i **= 2\n",
    "\n",
    "\n",
    "#  2\n",
    "#  4\n",
    "#  16\n",
    "#  256\n",
    "#  65536\n"
   ]
  },
  {
   "cell_type": "code",
   "execution_count": 72,
   "id": "74daf358",
   "metadata": {
    "scrolled": true
   },
   "outputs": [
    {
     "name": "stdout",
     "output_type": "stream",
     "text": [
      "100\n",
      "95\n",
      "90\n",
      "85\n",
      "80\n",
      "75\n",
      "70\n",
      "65\n",
      "60\n",
      "55\n",
      "50\n",
      "45\n",
      "40\n",
      "35\n",
      "30\n",
      "25\n",
      "20\n",
      "15\n",
      "10\n",
      "5\n"
     ]
    }
   ],
   "source": [
    "###iii. Write a while loop that uses print to create the output shown below.\n",
    "\n",
    "i = 100\n",
    "while i >= 5:\n",
    "    print(i)\n",
    "    i -= 5\n",
    "\n",
    "\n",
    "# 100\n",
    "# 95\n",
    "# 90\n",
    "# 85\n",
    "# 80\n",
    "# 75\n",
    "# 70\n",
    "# 65\n",
    "# 60\n",
    "# 55\n",
    "# 50\n",
    "# 45\n",
    "# 40\n",
    "# 35\n",
    "# 30\n",
    "# 25\n",
    "# 20\n",
    "# 15\n",
    "# 10\n",
    "# 5\n",
    "\n"
   ]
  },
  {
   "cell_type": "code",
   "execution_count": null,
   "id": "20aede65",
   "metadata": {},
   "outputs": [],
   "source": [
    "##FOR LOOPS"
   ]
  },
  {
   "cell_type": "code",
   "execution_count": 74,
   "id": "4211eec5",
   "metadata": {},
   "outputs": [
    {
     "name": "stdout",
     "output_type": "stream",
     "text": [
      "Enter a number: 7\n",
      "7 x 1 = 7\n",
      "7 x 2 = 14\n",
      "7 x 3 = 21\n",
      "7 x 4 = 28\n",
      "7 x 5 = 35\n",
      "7 x 6 = 42\n",
      "7 x 7 = 49\n",
      "7 x 8 = 56\n",
      "7 x 9 = 63\n",
      "7 x 10 = 70\n"
     ]
    }
   ],
   "source": [
    "### Write some code using a for loop that prompts the user for a number, then shows a multiplication table up through 10 for that number.\n",
    "\n",
    "### For example, if the user enters 7, your program should output:\n",
    "\n",
    "number = int(input(\"Enter a number: \"))\n",
    "\n",
    "for i in range(1, 11):\n",
    "    print(number, \"x\", i, \"=\", number * i)\n",
    "\n",
    "\n",
    "# 7 x 1 = 7\n",
    "# 7 x 2 = 14\n",
    "# 7 x 3 = 21\n",
    "# 7 x 4 = 28\n",
    "# 7 x 5 = 35\n",
    "# 7 x 6 = 42\n",
    "# 7 x 7 = 49\n",
    "# 7 x 8 = 56\n",
    "# 7 x 9 = 63\n",
    "# 7 x 10 = 70\n"
   ]
  },
  {
   "cell_type": "code",
   "execution_count": 20,
   "id": "c1e1ec21",
   "metadata": {},
   "outputs": [
    {
     "name": "stdout",
     "output_type": "stream",
     "text": [
      "Enter number of rows: 9\n",
      "1\n",
      "22\n",
      "333\n",
      "4444\n",
      "55555\n",
      "666666\n",
      "7777777\n",
      "88888888\n",
      "999999999\n"
     ]
    },
    {
     "data": {
      "text/plain": [
       "999999999"
      ]
     },
     "execution_count": 20,
     "metadata": {},
     "output_type": "execute_result"
    }
   ],
   "source": [
    "###Create a for loop that uses print to create the output shown below.\n",
    "\n",
    "\n",
    "n = int(input(\"Enter number of rows: \"))\n",
    "\n",
    "for i in range(1,n+1):\n",
    "    for j in range(1, i+1):\n",
    "        print(i, end=\"\")\n",
    "    print()\n",
    "\n",
    "1\n",
    "22\n",
    "333\n",
    "4444\n",
    "55555\n",
    "666666\n",
    "7777777\n",
    "88888888\n",
    "999999999"
   ]
  },
  {
   "cell_type": "code",
   "execution_count": 25,
   "id": "91eebf76",
   "metadata": {},
   "outputs": [],
   "source": [
    "##'BREAK' and 'CONTINUE'##"
   ]
  },
  {
   "cell_type": "code",
   "execution_count": 99,
   "id": "07e6b32f",
   "metadata": {},
   "outputs": [
    {
     "name": "stdout",
     "output_type": "stream",
     "text": [
      "Enter an odd number between 1 and 50: 27\n",
      "Here is an odd number: 1\n",
      "Here is an odd number: 3\n",
      "Here is an odd number: 5\n",
      "Here is an odd number: 7\n",
      "Here is an odd number: 9\n",
      "Here is an odd number: 11\n",
      "Here is an odd number: 13\n",
      "Here is an odd number: 15\n",
      "Here is an odd number: 17\n",
      "Here is an odd number: 19\n",
      "Here is an odd number: 21\n",
      "Here is an odd number: 23\n",
      "Here is an odd number: 25\n",
      "Here is an odd number: 29\n",
      "Here is an odd number: 31\n",
      "Here is an odd number: 33\n",
      "Here is an odd number: 35\n",
      "Here is an odd number: 37\n",
      "Here is an odd number: 39\n",
      "Here is an odd number: 41\n",
      "Here is an odd number: 43\n",
      "Here is an odd number: 45\n",
      "Here is an odd number: 47\n",
      "Here is an odd number: 49\n"
     ]
    }
   ],
   "source": [
    "#Next write a loop that prints out the numbers from the number the user entered down to 1.\n",
    "# The input function can be used to prompt for input and use that input in your python code. Prompt the user to enter a positive number and write a loop that counts from 0 to that number. (Hints: note that the input function returns a string, so you'll need to convert this to a numeric type.)\n",
    "# Prompt the user for an odd number between 1 and 50. Use a loop and a break statement to continue prompting the user if they enter invalid input. (Hint: use the isdigit method on strings to determine this). Use a loop and the continue statement to output all the odd numbers between 1 and 50, except for the number the user entered.\n",
    "\n",
    "\n",
    "# Prompt the user for an odd number between 1 and 50.\n",
    "while True:\n",
    "    number_to_skip = input(\"Enter an odd number between 1 and 50: \")\n",
    "    if number_to_skip.isdigit() and int(number_to_skip) % 2 == 1 and 1 <= int(number_to_skip) <= 50:\n",
    "        break\n",
    "    print(\"Invalid input. Please enter an odd number between 1 and 50.\")\n",
    "\n",
    "# Print all the odd numbers between 1 and 50, except for the number the user entered.\n",
    "for number in range(1, 51):\n",
    "    if number != int(number_to_skip) and number % 2 == 1:\n",
    "        print(\"Here is an odd number:\", number)\n",
    "\n",
    "\n",
    "# Number to skip is: 27\n",
    "\n",
    "# Here is an odd number: 1\n",
    "# Here is an odd number: 3\n",
    "# Here is an odd number: 5\n",
    "# Here is an odd number: 7\n",
    "# Here is an odd number: 9\n",
    "# Here is an odd number: 11\n",
    "# Here is an odd number: 13\n",
    "# Here is an odd number: 15\n",
    "# Here is an odd number: 17\n",
    "# Here is an odd number: 19\n",
    "# Here is an odd number: 21\n",
    "# Here is an odd number: 23\n",
    "# Here is an odd number: 25\n",
    "# Yikes! Skipping number: 27\n",
    "# Here is an odd number: 29\n",
    "# Here is an odd number: 31\n",
    "# Here is an odd number: 33\n",
    "# Here is an odd number: 35\n",
    "# Here is an odd number: 37\n",
    "# Here is an odd number: 39\n",
    "# Here is an odd number: 41\n",
    "# Here is an odd number: 43\n",
    "# Here is an odd number: 45\n",
    "# Here is an odd number: 47\n",
    "# Here is an odd number: 49\n",
    "\n"
   ]
  },
  {
   "cell_type": "code",
   "execution_count": 120,
   "id": "b124d9cf",
   "metadata": {},
   "outputs": [
    {
     "name": "stdout",
     "output_type": "stream",
     "text": [
      "1\n",
      "2\n",
      "Fizz\n",
      "4\n",
      "Buzz\n",
      "Fizz\n",
      "7\n",
      "8\n",
      "Fizz\n",
      "Buzz\n",
      "11\n",
      "Fizz\n",
      "13\n",
      "14\n",
      "FizzBuzz\n",
      "16\n",
      "17\n",
      "Fizz\n",
      "19\n",
      "Buzz\n",
      "Fizz\n",
      "22\n",
      "23\n",
      "Fizz\n",
      "Buzz\n",
      "26\n",
      "Fizz\n",
      "28\n",
      "29\n",
      "FizzBuzz\n",
      "31\n",
      "32\n",
      "Fizz\n",
      "34\n",
      "Buzz\n",
      "Fizz\n",
      "37\n",
      "38\n",
      "Fizz\n",
      "Buzz\n",
      "41\n",
      "Fizz\n",
      "43\n",
      "44\n",
      "FizzBuzz\n",
      "46\n",
      "47\n",
      "Fizz\n",
      "49\n",
      "Buzz\n",
      "Fizz\n",
      "52\n",
      "53\n",
      "Fizz\n",
      "Buzz\n",
      "56\n",
      "Fizz\n",
      "58\n",
      "59\n",
      "FizzBuzz\n",
      "61\n",
      "62\n",
      "Fizz\n",
      "64\n",
      "Buzz\n",
      "Fizz\n",
      "67\n",
      "68\n",
      "Fizz\n",
      "Buzz\n",
      "71\n",
      "Fizz\n",
      "73\n",
      "74\n",
      "FizzBuzz\n",
      "76\n",
      "77\n",
      "Fizz\n",
      "79\n",
      "Buzz\n",
      "Fizz\n",
      "82\n",
      "83\n",
      "Fizz\n",
      "Buzz\n",
      "86\n",
      "Fizz\n",
      "88\n",
      "89\n",
      "FizzBuzz\n",
      "91\n",
      "92\n",
      "Fizz\n",
      "94\n",
      "Buzz\n",
      "Fizz\n",
      "97\n",
      "98\n",
      "Fizz\n",
      "Buzz\n"
     ]
    }
   ],
   "source": [
    "##Fizzbuzz\n",
    "\n",
    "#3. One of the most common interview questions for entry-level programmers is the FizzBuzz test. \n",
    "# Developed by Imran Ghory, the test is designed to test basic looping and conditional logic skills.\n",
    "\n",
    "# Write a program that prints the numbers from 1 to 100.\n",
    "# For multiples of three print \"Fizz\" instead of the number\n",
    "# For the multiples of five print \"Buzz\".\n",
    "# For numbers which are multiples of both three and five print \"FizzBuzz\".\n",
    "\n",
    "\n",
    "for num in range(1,101):\n",
    "    fb = ''\n",
    "    if num % 3 == 0:\n",
    "        fb += 'Fizz'\n",
    "    if num % 5 == 0:\n",
    "        fb += 'Buzz'\n",
    "    if not fb:\n",
    "        fb = num\n",
    "    print(fb)\n",
    "    \n",
    "  "
   ]
  },
  {
   "cell_type": "code",
   "execution_count": 121,
   "id": "2943fd87",
   "metadata": {},
   "outputs": [
    {
     "name": "stdout",
     "output_type": "stream",
     "text": [
      "What number would you like to go up to? 5\n",
      "Here is your table\n",
      "\n",
      "name | squared | cubed\n",
      "---- | -------- | ----\n",
      "1    | 1        | 1\n",
      "2    | 4        | 8\n",
      "3    | 9        | 27\n",
      "4    | 16        | 64\n",
      "5    | 25        | 125\n",
      "WOuld you like to continue: yes or nono\n",
      "Great day, thanks\n"
     ]
    }
   ],
   "source": [
    "#4. Display a table of powers.\n",
    "\n",
    "# Prompt the user to enter an integer\n",
    "# Display a table of squares and cubes from 1 to the value entered\n",
    "# Ask if the user wants to continue\n",
    "# Assume that the user will enter valid data\n",
    "# Only continue if the user agrees to\n",
    "# Example Output\n",
    "\n",
    "\n",
    "# What number would you like to go up to? 5\n",
    "\n",
    "# Here is your table!\n",
    "\n",
    "# number | squared | cubed\n",
    "# ------ | ------- | -----\n",
    "# 1      | 1       | 1\n",
    "# 2      | 4       | 8\n",
    "# 3      | 9       | 27\n",
    "# 4      | 16      | 64\n",
    "# 5      | 25      | 125\n",
    "\n",
    "\n",
    "user_input = int(input(\"What number would you like to go up to? \"))\n",
    "\n",
    "run = True\n",
    "while run:\n",
    "    print(\"Here is your table\\n\")\n",
    "    print(\"name | squared | cubed\")\n",
    "    print(\"-\"*4, \"|\", \"-\"*8, \"|\", \"-\"*4)\n",
    "\n",
    "    i = 1\n",
    "    while i <= user_input:\n",
    "        print(f\"{i}    | {i**2}        | {i**3}\")\n",
    "        i = i + 1 \n",
    "\n",
    "    user_input = input(\"WOuld you like to continue: yes or no\")\n",
    "\n",
    "    if user_input == \"yes\":\n",
    "        user_input = int(input(\"What number would you like to go up to? \"))\n",
    "    else:\n",
    "        print(\"Great day, thanks\")\n",
    "        break\n"
   ]
  },
  {
   "cell_type": "code",
   "execution_count": 123,
   "id": "6d1181f3",
   "metadata": {},
   "outputs": [
    {
     "name": "stdout",
     "output_type": "stream",
     "text": [
      "Enter a numerical grade from 0 to 100: 99\n",
      "The corresponding letter grade for 99 is A\n",
      "Do you want to continue? (y/n): y\n",
      "Enter a numerical grade from 0 to 100: 70\n",
      "The corresponding letter grade for 70 is C\n",
      "Do you want to continue? (y/n): n\n"
     ]
    }
   ],
   "source": [
    "#5. Convert given number grades into letter grades.\n",
    "\n",
    "# Prompt the user for a numerical grade from 0 to 100\n",
    "# Display the corresponding letter grade\n",
    "# Prompt the user to continue\n",
    "# Assume that the user will enter valid integers for the grades\n",
    "# The application should only continue if the user agrees to\n",
    "# Grade Ranges:\n",
    "\n",
    "# A : 100 - 88\n",
    "# B : 87 - 80\n",
    "# C : 79 - 67\n",
    "# D : 66 - 60\n",
    "# F : 59 - 0\n",
    "\n",
    "\n",
    "        \n",
    "\n",
    "while True:\n",
    "    grade = int(input(\"Enter a numerical grade from 0 to 100: \"))\n",
    "    if grade >= 88 and grade <= 100:\n",
    "        letter_grade = 'A'\n",
    "    elif grade >= 80 and grade <= 87:\n",
    "        letter_grade = 'B'\n",
    "    elif grade >= 67 and grade <= 79:\n",
    "        letter_grade = 'C'\n",
    "    elif grade >= 60 and grade <= 66:\n",
    "        letter_grade = 'D'\n",
    "    else:\n",
    "        letter_grade = 'F'\n",
    "    \n",
    "    print(f\"The corresponding letter grade for {grade} is {letter_grade}\")\n",
    "    \n",
    "    continue_option = input(\"Do you want to continue? (y/n): \")\n",
    "    if continue_option.lower() != 'y':\n",
    "        break\n"
   ]
  },
  {
   "cell_type": "code",
   "execution_count": 124,
   "id": "ca57d5ee",
   "metadata": {},
   "outputs": [
    {
     "name": "stdout",
     "output_type": "stream",
     "text": [
      "Enter and genre? Fantasy\n",
      "Children of Blood and Bone\n"
     ]
    }
   ],
   "source": [
    "#6. Create a list of dictionaries where each dictionary represents a book that you have read. \n",
    "#Each dictionary in the list should have the keys title, author, and genre. \n",
    "#Loop through the list and print out information about each book.\n",
    "# Prompt the user to enter a genre, then loop through your books\n",
    "#list and print out the titles of all the books in that genre.\n",
    "\n",
    "\n",
    "book1 ={\n",
    "    \"title\":\"Coldest Winter\",\n",
    "    \"author\": \"Sister Souljah\",\n",
    "    \"genre\":\"Fiction\"   \n",
    "    }\n",
    "book2 = {\n",
    "    \"title\":\" Angels & Demons: A Novel\",\n",
    "    \"author\": \"Dan Brown\",\n",
    "    \"genre\":\"Mystery thriller\"   \n",
    "    }\n",
    "book3 = {\n",
    "    \"title\":\"Children of Blood and Bone\",\n",
    "    \"author\": \"Tomi Adeyemi\",\n",
    "    \"genre\":\"Fantasy\"\n",
    "       }\n",
    "books = [book1, book2, book3]\n",
    "\n",
    "user_input = input(\"Enter and genre? \")\n",
    "for i in books:\n",
    "    if i[\"genre\"] == user_input:\n",
    "        print(i[\"title\"])\n"
   ]
  }
 ],
 "metadata": {
  "kernelspec": {
   "display_name": "Python 3 (ipykernel)",
   "language": "python",
   "name": "python3"
  },
  "language_info": {
   "codemirror_mode": {
    "name": "ipython",
    "version": 3
   },
   "file_extension": ".py",
   "mimetype": "text/x-python",
   "name": "python",
   "nbconvert_exporter": "python",
   "pygments_lexer": "ipython3",
   "version": "3.10.9"
  }
 },
 "nbformat": 4,
 "nbformat_minor": 5
}
